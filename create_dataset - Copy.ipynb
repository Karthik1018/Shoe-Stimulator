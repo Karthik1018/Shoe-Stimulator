{
 "cells": [
  {
   "cell_type": "code",
   "execution_count": 2,
   "id": "4b697c07",
   "metadata": {},
   "outputs": [
    {
     "name": "stdout",
     "output_type": "stream",
     "text": [
      "   FSR_1  FSR_2  FSR_3  FSR_4  FSR_5    Target\n",
      "0     74     16    184     23    202      mild\n",
      "1    127    200    157    294    222    severe\n",
      "2    252     36    220    236    174  moderate\n",
      "3    230     98    249     53    165  moderate\n",
      "4    284    226    242     93      2  moderate\n",
      "5    245     46    237    247    287    severe\n",
      "6     94     96    241     63    195  moderate\n",
      "7     23     37     18    117      1      mild\n",
      "8     92     55    163    263     15  moderate\n",
      "9    228    107    196    199     40  moderate\n"
     ]
    }
   ],
   "source": [
    "import pandas as pd\n",
    "import numpy as np\n",
    "import warnings\n",
    "warnings.filterwarnings('ignore')\n",
    "# Function to classify the pressure level\n",
    "def classify_pressure(total_pressure):\n",
    "    if total_pressure < 100:\n",
    "        return 'mild'\n",
    "    elif total_pressure < 200:\n",
    "        return 'moderate'\n",
    "    else:\n",
    "        return 'severe'\n",
    "\n",
    "# Generate the dataset\n",
    "def generate_fsr_dataset(num_samples=10000):\n",
    "    # Initialize an empty list to store the dataset\n",
    "    data = []\n",
    "\n",
    "    # Loop to generate random values for each sensor and classify the target\n",
    "    for _ in range(num_samples):\n",
    "        # Generate random FSR values between 0 and 1024 for 5 sensors\n",
    "        fsr_values = np.random.randint(0, 300, size=5)\n",
    "        \n",
    "        # Calculate the total pressure (sum of the 5 FSR sensor values)\n",
    "        total_pressure = np.sum(fsr_values)\n",
    "        total_pressure=total_pressure/5\n",
    "        \n",
    "        # Classify the pressure into 'mild', 'moderate', or 'severe'\n",
    "        target = classify_pressure(total_pressure)\n",
    "        \n",
    "        # Append the FSR values and target classification to the dataset\n",
    "        data.append(list(fsr_values) + [target])\n",
    "\n",
    "    # Create a DataFrame with 5 FSR columns and 1 target column\n",
    "    columns = ['FSR_1', 'FSR_2', 'FSR_3', 'FSR_4', 'FSR_5', 'Target']\n",
    "    df = pd.DataFrame(data, columns=columns)\n",
    "\n",
    "    return df\n",
    "\n",
    "# Generate the dataset\n",
    "fsr_dataset = generate_fsr_dataset(num_samples=100000)\n",
    "\n",
    "# Show the first 10 rows of the dataset\n",
    "print(fsr_dataset.head(10))\n",
    "\n",
    "# Save the dataset to a CSV file\n",
    "fsr_dataset.to_csv('fsr_dataset.csv', index=False)\n"
   ]
  },
  {
   "cell_type": "code",
   "execution_count": null,
   "id": "3d2d191c",
   "metadata": {},
   "outputs": [],
   "source": []
  }
 ],
 "metadata": {
  "kernelspec": {
   "display_name": "Python 3 (ipykernel)",
   "language": "python",
   "name": "python3"
  },
  "language_info": {
   "codemirror_mode": {
    "name": "ipython",
    "version": 3
   },
   "file_extension": ".py",
   "mimetype": "text/x-python",
   "name": "python",
   "nbconvert_exporter": "python",
   "pygments_lexer": "ipython3",
   "version": "3.10.9"
  }
 },
 "nbformat": 4,
 "nbformat_minor": 5
}
