{
 "cells": [
  {
   "cell_type": "markdown",
   "metadata": {},
   "source": [
    "### TESTING THE foot-MODEL:"
   ]
  },
  {
   "cell_type": "code",
   "execution_count": null,
   "metadata": {},
   "outputs": [
    {
     "name": "stdout",
     "output_type": "stream",
     "text": [
      "Filename: foot_Test/input.txt\n",
      "['0', '0', '109', '90', '0']\n",
      "Moderate\n",
      "\n",
      "\n"
     ]
    }
   ],
   "source": [
    "#.................................................prediction(TESTING)............................................#\n",
    "\n",
    "import os\n",
    "import time\n",
    "import joblib\n",
    "import warnings\n",
    "import pandas as pd\n",
    "warnings.filterwarnings(action = 'ignore')\n",
    "from sklearn.neighbors import KNeighborsClassifier\n",
    "from sklearn.model_selection import train_test_split\n",
    "\n",
    "\n",
    "def foot_model(foot_value):    \n",
    "    knn = joblib.load('bestmodel.joblib')\n",
    "    x_new = foot_value\n",
    "     \n",
    "    new_pred = knn.predict([x_new])\n",
    "    if new_pred==[0.]:\n",
    "        result = 'Normal'\n",
    "        print(result)\n",
    "        f = open(\"alert.txt\",\"w\")\n",
    "        f.write('0')\n",
    "        f.close()\n",
    "    elif new_pred==[1.]:\n",
    "        result = 'Moderate'\n",
    "        print(result)\n",
    "        f = open(\"alert.txt\",\"w\")\n",
    "        f.write('1')\n",
    "        f.close()\n",
    "    else:\n",
    "        result = 'Severe'\n",
    "        print(result)\n",
    "        f = open(\"alert.txt\",\"w\")\n",
    "        f.write('1')\n",
    "        f.close()\n",
    "    f = open(\"output.txt\",\"w\")\n",
    "    f.write(result)\n",
    "    f.close()\n",
    "    print('\\n')\n",
    "\n",
    "\n",
    "if __name__ == '__main__':\n",
    "    TestData=\"foot_Test\"\n",
    "    while True:\n",
    "        for(direcpath,direcnames,files) in os.walk(TestData):\n",
    "            \n",
    "            for file in files:\n",
    "                if 'txt' in file:\n",
    "                    time.sleep(1)\n",
    "                    filename= TestData +'/'+ file\n",
    "                    print('Filename:',filename)\n",
    "                    with open(filename, 'r') as myfile:\n",
    "                        data = myfile.read()\n",
    "                        \n",
    "                        testdata = data.split(\"\\n\")\n",
    "                        print(testdata)\n",
    "                        clf = foot_model(testdata)\n",
    "                    os.remove(filename)\n",
    "\n"
   ]
  },
  {
   "cell_type": "code",
   "execution_count": null,
   "metadata": {},
   "outputs": [],
   "source": []
  },
  {
   "cell_type": "code",
   "execution_count": null,
   "metadata": {},
   "outputs": [],
   "source": []
  }
 ],
 "metadata": {
  "kernelspec": {
   "display_name": "Python 3 (ipykernel)",
   "language": "python",
   "name": "python3"
  },
  "language_info": {
   "codemirror_mode": {
    "name": "ipython",
    "version": 3
   },
   "file_extension": ".py",
   "mimetype": "text/x-python",
   "name": "python",
   "nbconvert_exporter": "python",
   "pygments_lexer": "ipython3",
   "version": "3.10.9"
  }
 },
 "nbformat": 4,
 "nbformat_minor": 2
}
